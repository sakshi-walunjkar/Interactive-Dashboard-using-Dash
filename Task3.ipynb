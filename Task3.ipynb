{
 "cells": [
  {
   "cell_type": "code",
   "execution_count": 21,
   "id": "f569286f-c940-4e4c-9427-a4fb6bc5b25e",
   "metadata": {},
   "outputs": [],
   "source": [
    "# Task 3: Interactive Dashboard using Dash\n",
    "import sys\n",
    "import subprocess\n",
    "import pandas as pd\n"
   ]
  },
  {
   "cell_type": "code",
   "execution_count": 23,
   "id": "7548a397-b8a9-4c48-b322-71f28faba94c",
   "metadata": {},
   "outputs": [],
   "source": [
    "# Ensure required libraries are installed\n",
    "required_packages = [\"dash\", \"plotly\"]\n",
    "for package in required_packages:\n",
    "    try:\n",
    "        __import__(package)\n",
    "    except ModuleNotFoundError:\n",
    "        subprocess.check_call([sys.executable, \"-m\", \"pip\", \"install\", package])\n",
    "\n",
    "import dash\n",
    "from dash import Dash, dcc, html\n",
    "import plotly.express as px"
   ]
  },
  {
   "cell_type": "code",
   "execution_count": 27,
   "id": "de69e577-e0ff-4c79-8089-d0c4ff58c430",
   "metadata": {},
   "outputs": [],
   "source": [
    "# Load Dataset\n",
    "df_dashboard = pd.read_csv(\"Titanic-Dataset.csv\")\n",
    "fig = px.bar(df_dashboard, x=\"Pclass\", y=\"Survived\", title=\"Survival Rate by Class\", color=\"Pclass\")\n",
    "\n"
   ]
  },
  {
   "cell_type": "code",
   "execution_count": 29,
   "id": "8a1bc232-2555-40bd-a09e-25b02a2015d9",
   "metadata": {},
   "outputs": [
    {
     "data": {
      "text/html": [
       "\n",
       "        <iframe\n",
       "            width=\"100%\"\n",
       "            height=\"650\"\n",
       "            src=\"http://127.0.0.1:8050/\"\n",
       "            frameborder=\"0\"\n",
       "            allowfullscreen\n",
       "            \n",
       "        ></iframe>\n",
       "        "
      ],
      "text/plain": [
       "<IPython.lib.display.IFrame at 0x1d994ca8980>"
      ]
     },
     "metadata": {},
     "output_type": "display_data"
    }
   ],
   "source": [
    "# Initialize Dash App\n",
    "app = Dash(__name__)\n",
    "app.layout = html.Div([\n",
    "    html.H1(\"Titanic Data Analysis Dashboard\", style={'textAlign': 'center', 'color': 'blue'}),\n",
    "    dcc.Graph(id=\"bar-chart\", figure=fig),\n",
    "    dcc.Dropdown(\n",
    "        id=\"class-dropdown\",\n",
    "        options=[{\"label\": str(cls), \"value\": cls} for cls in df_dashboard[\"Pclass\"].unique()],\n",
    "        placeholder=\"Select a Class\"\n",
    "    )\n",
    "])\n",
    "\n",
    "if __name__ == \"__main__\":\n",
    "    app.run_server(debug=True)"
   ]
  },
  {
   "cell_type": "code",
   "execution_count": null,
   "id": "4f9f4076-80a4-419b-9bb5-520b72985873",
   "metadata": {},
   "outputs": [],
   "source": []
  },
  {
   "cell_type": "code",
   "execution_count": null,
   "id": "6909334b-54f1-4739-9b7b-bd434eb601a5",
   "metadata": {},
   "outputs": [],
   "source": []
  }
 ],
 "metadata": {
  "kernelspec": {
   "display_name": "Python [conda env:base] *",
   "language": "python",
   "name": "conda-base-py"
  },
  "language_info": {
   "codemirror_mode": {
    "name": "ipython",
    "version": 3
   },
   "file_extension": ".py",
   "mimetype": "text/x-python",
   "name": "python",
   "nbconvert_exporter": "python",
   "pygments_lexer": "ipython3",
   "version": "3.12.7"
  }
 },
 "nbformat": 4,
 "nbformat_minor": 5
}
